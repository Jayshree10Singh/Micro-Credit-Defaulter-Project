{
 "cells": [
  {
   "cell_type": "markdown",
   "id": "68ca0e04",
   "metadata": {},
   "source": [
    "# Micro-Credit Defaulter Model Project:"
   ]
  },
  {
   "cell_type": "code",
   "execution_count": null,
   "id": "02252667",
   "metadata": {},
   "outputs": [],
   "source": [
    "#Imported required libraries\n",
    "import pandas as pd\n",
    "import numpy as np\n",
    "import matplotlib.pyplot as plt\n",
    "import seaborn as sns\n",
    "%matplotlib inline\n",
    "\n",
    "from sklearn.tree import DecisionTreeClassifier\n",
    "from sklearn.neighbors import KNeighborsClassifier\n",
    "from sklearn.linear_model import LogisticRegression\n",
    "from sklearn.naive_bayes import GaussianNB\n",
    "\n",
    "#Importing Boosting models\n",
    "from xgboost import XGBClassifier\n",
    "from sklearn.ensemble import RandomForestClassifier\n",
    "from sklearn.ensemble import AdaBoostClassifier\n",
    "from sklearn.ensemble import GradientBoostingClassifier\n",
    "from sklearn.ensemble import BaggingClassifier\n",
    "from sklearn.ensemble import ExtraTreesClassifier\n",
    "\n",
    "#Importing error metrics\n",
    "from sklearn.metrics import classification_report,confusion_matrix,accuracy_score,roc_curve,auc\n",
    "from sklearn.model_selection import GridSearchCV,cross_val_score\n",
    "\n",
    "#Display all the columns of the dataframe\n",
    "pd.pandas.set_option('display.max_columns',None)\n",
    "\n",
    "import warnings\n",
    "warnings.filterwarnings('ignore')"
   ]
  },
  {
   "cell_type": "code",
   "execution_count": null,
   "id": "86a1a151",
   "metadata": {},
   "outputs": [],
   "source": [
    "df=pd.read_csv(r\"G:\\Users\\Lenovo\\Desktop\\Micro-Credit-Project\\Micro Credit Project\\Data file.csv\")\n",
    "df"
   ]
  },
  {
   "cell_type": "markdown",
   "id": "6fe1aa44",
   "metadata": {},
   "source": [
    "We can see that label is the objective column, and for each loan transaction, I have to predict the likelihood that the customer would repay the lent amount within five days after the loan's insurance. Label \"1\" in this instance denotes a paid debt, or a non-defaulter, while Label \"0\" denotes a loan that has not been paid, or a defaulter. It is therefore evidently a classification issue."
   ]
  },
  {
   "cell_type": "markdown",
   "id": "bfbb7afd",
   "metadata": {},
   "source": [
    "# Features information:"
   ]
  },
  {
   "cell_type": "markdown",
   "id": "092a50ee",
   "metadata": {},
   "source": [
    "- label : Flag indicating whether the user paid back the credit amount within 5 days of issuing the loan{1:success, 0:failure}\n",
    "- msisdn : mobile number of user\n",
    "- aon : age on cellular network in days\n",
    "- daily_decr30 : Daily amount spent from main account, averaged over last 30 days (in Indonesian Rupiah)\n",
    "- daily_decr90 : Daily amount spent from main account, averaged over last 90 days (in Indonesian Rupiah)\n",
    "- rental30 : Average main account balance over last 30 days\n",
    "- rental90 : Average main account balance over last 90 days\n",
    "- last_rech_date_ma : Number of days till last recharge of main account\n",
    "- last_rech_date_da: Number of days till last recharge of data account\n",
    "- last_rech_amt_ma : Amount of last recharge of main account (in Indonesian Rupiah)\n",
    "- cnt_ma_rech30 : Number of times main account got recharged in last 30 days\n",
    "- fr_ma_rech30 : Frequency of main account recharged in last 30 days\n",
    "- sumamnt_ma_rech30 : Total amount of recharge in main account over last 30 days (in Indonesian Rupiah)\n",
    "- medianamnt_ma_rech30 : Median of amount of recharges done in main account over last 30 days at user level (in Indonesian Rupiah)\n",
    "- medianmarechprebal30 : Median of main account balance just before recharge in last 30 days at user level (in Indonesian Rupiah)\n",
    "- cnt_ma_rech90 : Number of times main account got recharged in last 90 days\n",
    "- fr_ma_rech90 : Frequency of main account recharged in last 90 days\n",
    "- sumamnt_ma_rech90 : Total amount of recharge in main account over last 90 days (in Indonasian Rupiah)\n",
    "- medianamnt_ma_rech90 : Median of amount of recharges done in main account over last 90 days at user level (in Indonasian Rupiah)\n",
    "- medianmarechprebal90 : Median of main account balance just before recharge in last 90 days at user level (in Indonasian Rupiah)\n",
    "- cnt_da_rech30 : Number of times data account got recharged in last 30 days\n",
    "- fr_da_rech30: Frequency of data account recharged in last 30 days\n",
    "- cnt_da_rech90 : Number of times data account got recharged in last 90 days\n",
    "- fr_da_rech90 : Frequency of data account recharged in last 90 days\n",
    "- cnt_loans30 : Number of loans taken by user in last 30 days\n",
    "- amnt_loans30: Total amount of loans taken by user in last 30 days\n",
    "- maxamnt_loans30 : maximum amount of loan taken by the user in last 30 days\n",
    "- medianamnt_loans30 : Median of amounts of loan taken by the user in last 30 days\n",
    "- cnt_loans90 : Number of loans taken by user in last 90 days\n",
    "- amnt_loans90 : Total amount of loans taken by user in last 90 days\n",
    "- maxamnt_loans90 : maximum amount of loan taken by the user in last 90 days\n",
    "- medianamnt_loans90 : Median of amounts of loan taken by the user in last 90 days\n",
    "- payback30 : Average payback time in days over last 30 days\n",
    "- payback90 : Average payback time in days over last 90 days\n",
    "- pcircle : telecom circle\n",
    "- pdate : date"
   ]
  },
  {
   "cell_type": "markdown",
   "id": "17a0db48",
   "metadata": {},
   "source": [
    "# Preprocessing and EDA"
   ]
  },
  {
   "cell_type": "code",
   "execution_count": null,
   "id": "652c9ead",
   "metadata": {},
   "outputs": [],
   "source": [
    "df.shape"
   ]
  },
  {
   "cell_type": "markdown",
   "id": "41052a82",
   "metadata": {},
   "source": [
    "Observation: There are 209593 rows and 37 columns present in the dataset."
   ]
  },
  {
   "cell_type": "code",
   "execution_count": null,
   "id": "17acb3c2",
   "metadata": {},
   "outputs": [],
   "source": [
    "df.columns"
   ]
  },
  {
   "cell_type": "markdown",
   "id": "91795913",
   "metadata": {},
   "source": [
    "# Features:"
   ]
  },
  {
   "cell_type": "markdown",
   "id": "e843bb8d",
   "metadata": {},
   "source": [
    "- Variable : Defination -> comment\n",
    "- label : Flag indicating whether the user paid back the credit amount within 5 days of issuing the loan{1:success, 0:failure}\n",
    "- msisdn : mobile number of user\n",
    "- aon : age on cellular network in days\n",
    "- daily_decr30 : Daily amount spent from main account, averaged over last 30 days (in Indonesian Rupiah)\n",
    "- daily_decr90 : Daily amount spent from main account, averaged over last 90 days (in Indonesian Rupiah)\n",
    "- rental30 : Average main account balance over last 30 days -> Unsure of given definition\n",
    "- rental90 : Average main account balance over last 90 days -> Unsure of given definition\n",
    "- last_rech_date_ma : Number of days till last recharge of main account\n",
    "- last_rech_date_da : Number of days till last recharge of data account\n",
    "- last_rech_amt_ma : Amount of last recharge of main account (in Indonesian Rupiah)\n",
    "- cnt_ma_rech30 : Number of times main account got recharged in last 30 days\n",
    "- fr_ma_rech30 : Frequency of main account recharged in last 30 days -> Unsure of given definition\n",
    "- sumamnt_ma_rech30 : Total amount of recharge in main account over last 30 days (in Indonesian Rupiah)\n",
    "- medianamnt_ma_rech30 : Median of amount of recharges done in main account over last 30 days at user level (in Indonesian Rupiah)\n",
    "- medianmarechprebal30 : Median of main account balance just before recharge in last 30 days at user level (in Indonesian Rupiah)\n",
    "- cnt_ma_rech90 : Number of times main account got recharged in last 90 days\n",
    "- fr_ma_rech90 : Frequency of main account recharged in last 90 days -> Unsure of given definition\n",
    "- sumamnt_ma_rech90 : Total amount of recharge in main account over last 90 days (in Indonasian Rupiah)\n",
    "- medianamnt_ma_rech90 : Median of amount of recharges done in main account over last 90 days at user level (in Indonasian Rupiah)\n",
    "- medianmarechprebal90 : Median of main account balance just before recharge in last 90 days at user level (in Indonasian Rupiah)\n",
    "- cnt_da_rech30 : Number of times data account got recharged in last 30 days\n",
    "- fr_da_rech30 : Frequency of data account recharged in last 30 days\n",
    "- cnt_da_rech90 : Number of times data account got recharged in last 90 days\n",
    "- fr_da_rech90 : Frequency of data account recharged in last 90 days\n",
    "- cnt_loans30 : Number of loans taken by user in last 30 days\n",
    "- amnt_loans30 : Total amount of loans taken by user in last 30 days\n",
    "- maxamnt_loans30 : maximum amount of loan taken by the user in last 30 days -> There are only two options: 5 & 10 Rs., for which the user needs to pay back 6 & 12 Rs. respectively\n",
    "- medianamnt_loans30 : Median of amounts of loan taken by the user in last 30 days\n",
    "- cnt_loans90 : Number of loans taken by user in last 90 days\n",
    "- amnt_loans90 : Total amount of loans taken by user in last 90 days\n",
    "- maxamnt_loans90 : maximum amount of loan taken by the user in last 90 days\n",
    "- medianamnt_loans90 : Median of amounts of loan taken by the user in last 90 days\n",
    "- payback30 : Average payback time in days over last 30 days\n",
    "- payback90 : Average payback time in days over last 90 days\n",
    "- pcircle : telecom circle\n",
    "- pdate : date"
   ]
  },
  {
   "cell_type": "code",
   "execution_count": null,
   "id": "d4ef3f71",
   "metadata": {},
   "outputs": [],
   "source": [
    "df.dtypes"
   ]
  },
  {
   "cell_type": "markdown",
   "id": "54c106a0",
   "metadata": {},
   "source": [
    "#### Observation:"
   ]
  },
  {
   "cell_type": "markdown",
   "id": "c67f25be",
   "metadata": {},
   "source": [
    "- There are two types of data present in the dataset categorical and numerical.\n",
    "\n",
    "- msisdn, pcircle, pdate are in categorical data type rest other columns are in numerical data types"
   ]
  },
  {
   "cell_type": "code",
   "execution_count": null,
   "id": "1c0819c3",
   "metadata": {},
   "outputs": [],
   "source": [
    "df.info()"
   ]
  },
  {
   "cell_type": "markdown",
   "id": "a4166152",
   "metadata": {},
   "source": [
    "# Checking missing values"
   ]
  },
  {
   "cell_type": "code",
   "execution_count": null,
   "id": "b833ea81",
   "metadata": {},
   "outputs": [],
   "source": [
    "df.isnull().values.any()"
   ]
  },
  {
   "cell_type": "code",
   "execution_count": null,
   "id": "ac2cd63f",
   "metadata": {},
   "outputs": [],
   "source": [
    "df.isnull().sum()"
   ]
  },
  {
   "cell_type": "markdown",
   "id": "c7cbd265",
   "metadata": {},
   "source": [
    "There are no missing values present in the dataset. We can also confirm this via visualization with the help of heatmap."
   ]
  },
  {
   "cell_type": "code",
   "execution_count": null,
   "id": "b6371bd0",
   "metadata": {},
   "outputs": [],
   "source": [
    "plt.figure(figsize=(22,5))\n",
    "sns.heatmap(df.isnull(),yticklabels=False,cbar=False)"
   ]
  },
  {
   "cell_type": "markdown",
   "id": "5cc22f64",
   "metadata": {},
   "source": [
    "observation: We confirm that there are no missing values present in the dataset through heatmap."
   ]
  },
  {
   "cell_type": "markdown",
   "id": "9972d478",
   "metadata": {},
   "source": [
    "# Exploring categorical columns"
   ]
  },
  {
   "cell_type": "code",
   "execution_count": null,
   "id": "28eb1bed",
   "metadata": {},
   "outputs": [],
   "source": [
    "for column in df.columns:\n",
    "    if df[column].dtypes == object:\n",
    "        print(str(column) + ' : ' + str(df[column].unique()))\n",
    "        print(df[column].value_counts())\n",
    "        print('*******************************************************************************************************')\n",
    "        print('\\n')"
   ]
  },
  {
   "cell_type": "markdown",
   "id": "603ccb78",
   "metadata": {},
   "source": [
    "Observation:\n",
    "\n",
    "In the column msisdn the mobile number of users are recurring so to do it's analysis and check the correlation we will have to convert it to float data type.\n",
    "\n",
    "In the column pcircle there is only one unique value 'UPW' is present so we will be dropping this column."
   ]
  },
  {
   "cell_type": "code",
   "execution_count": null,
   "id": "4c5703b3",
   "metadata": {},
   "outputs": [],
   "source": [
    "from collections import Counter\n",
    "Counter(df['pdate'])"
   ]
  },
  {
   "cell_type": "markdown",
   "id": "3a88b4ba",
   "metadata": {},
   "source": [
    "Observation:\n",
    "\n",
    "1. From the pdate column we will be extracting day and month to seperate columns.\n",
    "\n",
    "2. As there is only one unique year value '2016' present we will be ignoring it."
   ]
  },
  {
   "cell_type": "markdown",
   "id": "63b90123",
   "metadata": {},
   "source": [
    "# Feature extraction"
   ]
  },
  {
   "cell_type": "code",
   "execution_count": null,
   "id": "46a7f88b",
   "metadata": {},
   "outputs": [],
   "source": [
    "df['pdate'] = pd.to_datetime(df['pdate'])\n",
    "df['pdate']"
   ]
  },
  {
   "cell_type": "code",
   "execution_count": null,
   "id": "01d6b3e7",
   "metadata": {},
   "outputs": [],
   "source": [
    "df['pdate'].dt.day"
   ]
  },
  {
   "cell_type": "code",
   "execution_count": null,
   "id": "7995e156",
   "metadata": {},
   "outputs": [],
   "source": [
    "df['day'] = df['pdate'].dt.day"
   ]
  },
  {
   "cell_type": "code",
   "execution_count": null,
   "id": "e34ed55e",
   "metadata": {},
   "outputs": [],
   "source": [
    "df['pdate'].dt.month"
   ]
  },
  {
   "cell_type": "code",
   "execution_count": null,
   "id": "bfe84bf1",
   "metadata": {},
   "outputs": [],
   "source": [
    "df['month'] = df['pdate'].dt.month"
   ]
  },
  {
   "cell_type": "code",
   "execution_count": null,
   "id": "d0de9bd0",
   "metadata": {},
   "outputs": [],
   "source": [
    "df.head()"
   ]
  },
  {
   "cell_type": "markdown",
   "id": "0b6e7e5e",
   "metadata": {},
   "source": [
    "We have extracted day and month from the pdate column"
   ]
  },
  {
   "cell_type": "markdown",
   "id": "35eef512",
   "metadata": {},
   "source": [
    "# Encoding categorical column"
   ]
  },
  {
   "cell_type": "code",
   "execution_count": null,
   "id": "8dcc6739",
   "metadata": {},
   "outputs": [],
   "source": [
    "from sklearn.preprocessing import LabelEncoder\n",
    "le=LabelEncoder()\n",
    "df['msisdn']=le.fit_transform(df['msisdn'].astype(str))"
   ]
  },
  {
   "cell_type": "code",
   "execution_count": null,
   "id": "35071e12",
   "metadata": {},
   "outputs": [],
   "source": [
    "df.head()"
   ]
  },
  {
   "cell_type": "markdown",
   "id": "7aba83d8",
   "metadata": {},
   "source": [
    "# Summary statistics"
   ]
  },
  {
   "cell_type": "code",
   "execution_count": null,
   "id": "fedc61c2",
   "metadata": {},
   "outputs": [],
   "source": [
    "df.describe()"
   ]
  },
  {
   "cell_type": "markdown",
   "id": "14d583ed",
   "metadata": {},
   "source": [
    "Observation:\n",
    "\n",
    "1. Maximum standard deviation is observed in aon column.\n",
    "\n",
    "\n",
    "2. In the columns aon, daily_decr30, daily_decr90, rental30, rental90, last_rech_date_ma, last_rech_date_da, maxamnt_loans30, cnt_loans90, amnt_loans90 mean is considerably greater than median so the columns are positively skewed.\n",
    "\n",
    "\n",
    "3. In the columns label, month median is greater than mean so the columns are negatively skewed.\n",
    "\n",
    "\n",
    "4. In the columns aon, daily_decr30, daily_decr90, rental30, rental90, last_rech_date_ma, last_rech_date_da, maxamnt_loans30, cnt_loans90, payback30, payback90 there is huge difference present between 75th perecentile and maximum so outliers are present here.\n",
    "\n",
    "\n",
    "5. Maximum aon (age on cellular network in days) observed is 999860.755168 and the minimum is -48."
   ]
  },
  {
   "cell_type": "markdown",
   "id": "c11c0d6d",
   "metadata": {},
   "source": [
    "# To check the correlation"
   ]
  },
  {
   "cell_type": "code",
   "execution_count": null,
   "id": "ccc53e0a",
   "metadata": {},
   "outputs": [],
   "source": [
    "df_cor=df.corr()\n",
    "df_cor"
   ]
  },
  {
   "cell_type": "markdown",
   "id": "bea93b5f",
   "metadata": {},
   "source": [
    "With the aid of a heatmap, we will visualise it for easier understanding."
   ]
  },
  {
   "cell_type": "code",
   "execution_count": null,
   "id": "f915e98e",
   "metadata": {},
   "outputs": [],
   "source": [
    "plt.figure(figsize=(16,16))\n",
    "sns.heatmap(df_cor,annot=True,fmt='.0%',cmap='cool')\n",
    "plt.show()"
   ]
  },
  {
   "cell_type": "markdown",
   "id": "868f9949",
   "metadata": {},
   "source": [
    "Observation:\n",
    "\n",
    "1. The columns amnt_loans90, amnt_loans30, cnt_loans20, sumamnt_ma_rech90, cnt_ma_rech90, cnt_ma_rech30, sumamnt_ma_rech30 are highly positively correlated with label column.\n",
    "\n",
    "\n",
    "2. We have observed multicollinearity in between columns so we will be using PCA(Principal Component Analysis)\n",
    "\n",
    "\n",
    "3. No correlation has been observed in Unnamed: 0 ,msisdn, last_rechdate_ma, last_rech_date_da column so will be dropping these columns.\n"
   ]
  },
  {
   "cell_type": "code",
   "execution_count": null,
   "id": "3b8a0655",
   "metadata": {},
   "outputs": [],
   "source": [
    "#checking the correlation with target variable 'label'\n",
    "\n",
    "plt.figure(figsize=(25,10))\n",
    "df.drop('label', axis=1).corrwith(df['label']).plot(kind='bar',grid=True)\n",
    "plt.xticks(rotation='vertical')\n",
    "plt.title(\"correaltion with target variable label\")"
   ]
  },
  {
   "cell_type": "markdown",
   "id": "c3b684fd",
   "metadata": {},
   "source": [
    "Observation:\n",
    "\n",
    "Target variable label is highly positively correlated with cnt_ma_rech30, cnt_ma_rech90 and negatively correlated with aon, medianmarechprebal30, fr_da_rech_90."
   ]
  },
  {
   "cell_type": "markdown",
   "id": "a51affec",
   "metadata": {},
   "source": [
    "# Dropping unnecessary columns"
   ]
  },
  {
   "cell_type": "code",
   "execution_count": null,
   "id": "f05ca6f2",
   "metadata": {},
   "outputs": [],
   "source": [
    "df.drop(['Unnamed: 0','msisdn','pdate','pcircle','last_rech_date_ma','last_rech_date_da','fr_ma_rech30','fr_da_rech30'],axis=1,inplace=True)\n"
   ]
  },
  {
   "cell_type": "code",
   "execution_count": null,
   "id": "741d0dd2",
   "metadata": {},
   "outputs": [],
   "source": [
    "df.head()"
   ]
  },
  {
   "cell_type": "markdown",
   "id": "dc559ad9",
   "metadata": {},
   "source": [
    "# Data Visualization"
   ]
  },
  {
   "cell_type": "markdown",
   "id": "e163a6ab",
   "metadata": {},
   "source": [
    "Our target variable is label\n",
    "\n",
    "1 - Success(Non Defaulter)\n",
    "\n",
    "0 - Failure(Defaulter)"
   ]
  },
  {
   "cell_type": "markdown",
   "id": "042c847a",
   "metadata": {},
   "source": [
    "### Univariate Analysis"
   ]
  },
  {
   "cell_type": "code",
   "execution_count": null,
   "id": "56770a98",
   "metadata": {},
   "outputs": [],
   "source": [
    "#Checking the target variable\n",
    "\n",
    "plt.subplots(figsize=(15,5))\n",
    "sns.countplot(x=\"label\", data=df)\n",
    "plt.title(\"Category of label\")\n",
    "plt.xlabel(' 0 = Failure(Defaulter) and 1 = Success(Non Defaulter)')\n",
    "plt.ylabel(\"count\")\n",
    "plt.show()\n",
    "\n",
    "df['label'].value_counts()"
   ]
  },
  {
   "cell_type": "markdown",
   "id": "9fc6d14b",
   "metadata": {},
   "source": [
    "Observation:\n",
    "\n",
    "1. We observe 183431 number of Non defaulters where as 26162 number of defaulters.\n",
    "\n",
    "\n",
    "2. We observe that this is a very imbalanced data set."
   ]
  },
  {
   "cell_type": "code",
   "execution_count": null,
   "id": "1bd060c6",
   "metadata": {},
   "outputs": [],
   "source": [
    "#Checking the month column\n",
    "\n",
    "plt.subplots(figsize=(15,5))\n",
    "sns.countplot(x=\"month\", data=df)\n",
    "plt.title(\"Countplot of month\")\n",
    "plt.xlabel('month')\n",
    "plt.ylabel(\"count\")\n",
    "plt.show()\n",
    "\n",
    "df['month'].value_counts()"
   ]
  },
  {
   "cell_type": "markdown",
   "id": "140bd638",
   "metadata": {},
   "source": [
    "Observation:\n",
    "\n",
    "   Maximum(85765) number of users has taken credit on 7th month."
   ]
  },
  {
   "cell_type": "code",
   "execution_count": null,
   "id": "70048f60",
   "metadata": {},
   "outputs": [],
   "source": [
    "#Checking the day column\n",
    "\n",
    "plt.subplots(figsize=(15,5))\n",
    "sns.countplot(x=\"day\", data=df)\n",
    "plt.title(\"Countplot of day\")\n",
    "plt.xlabel('day')\n",
    "plt.ylabel(\"count\")\n",
    "plt.show()\n",
    "\n",
    "df['day'].value_counts()"
   ]
  },
  {
   "cell_type": "markdown",
   "id": "8aa416e1",
   "metadata": {},
   "source": [
    "Observation:\n",
    "\n",
    "Maximum(8092) number of users have taken credit on 11th day of the month. "
   ]
  },
  {
   "cell_type": "code",
   "execution_count": null,
   "id": "0c8c1c0a",
   "metadata": {},
   "outputs": [],
   "source": [
    "#Voilinplot of column last_rech_amt_ma\n",
    "\n",
    "\n",
    "sns.set(style='whitegrid')\n",
    "sns.violinplot(df['last_rech_amt_ma'])\n",
    "plt.show()\n",
    "\n",
    "df['last_rech_amt_ma'].value_counts()"
   ]
  },
  {
   "cell_type": "markdown",
   "id": "43689a11",
   "metadata": {},
   "source": [
    "Observation:\n",
    "\n",
    "Maximum(56297) number of customers last_rech_amt_ma is 1539."
   ]
  },
  {
   "cell_type": "code",
   "execution_count": null,
   "id": "f39f69f8",
   "metadata": {},
   "outputs": [],
   "source": [
    "# SCatter plot of cnt_loans30 column\n",
    "\n",
    "plt.scatter(df.index,df['cnt_loans30'])\n",
    "plt.show()\n",
    "\n",
    "df['cnt_loans30'].value_counts()"
   ]
  },
  {
   "cell_type": "markdown",
   "id": "8b9a86c3",
   "metadata": {},
   "source": [
    "Observation:\n",
    "\n",
    "      Maximum(83432) number of customers cnt_loans30 is 1."
   ]
  },
  {
   "cell_type": "code",
   "execution_count": null,
   "id": "335e50f7",
   "metadata": {},
   "outputs": [],
   "source": [
    "# SCatter plot of amnt_loans90 column\n",
    "\n",
    "plt.scatter(df.index,df['amnt_loans90'])\n",
    "plt.show()\n",
    "\n",
    "df['amnt_loans90'].value_counts()"
   ]
  },
  {
   "cell_type": "markdown",
   "id": "03f21755",
   "metadata": {},
   "source": [
    "Observation:\n",
    "\n",
    "     Maximum(69131) number of customers took the amnt_loans90 of 6."
   ]
  },
  {
   "cell_type": "code",
   "execution_count": null,
   "id": "414b205a",
   "metadata": {},
   "outputs": [],
   "source": [
    "# SCatter plot of sumamnt_ma_rech30 column\n",
    "\n",
    "plt.scatter(df.index,df['sumamnt_ma_rech30'])\n",
    "plt.show()\n",
    "\n",
    "df['sumamnt_ma_rech30'].value_counts()"
   ]
  },
  {
   "cell_type": "markdown",
   "id": "0589eb16",
   "metadata": {},
   "source": [
    "Observation:\n",
    "\n",
    "    Maximum(27979) customers sumamnt_ma_rech30 is 0."
   ]
  },
  {
   "cell_type": "code",
   "execution_count": null,
   "id": "a265578b",
   "metadata": {},
   "outputs": [],
   "source": [
    "# SCatter plot of payback30 column\n",
    "\n",
    "plt.scatter(df.index,df['payback30'])\n",
    "plt.show()\n",
    "\n",
    "df['payback30'].value_counts()"
   ]
  },
  {
   "cell_type": "markdown",
   "id": "6a8891d2",
   "metadata": {},
   "source": [
    "Observation:\n",
    "\n",
    "Maximum(106712) customers payback30 is 0."
   ]
  },
  {
   "cell_type": "code",
   "execution_count": null,
   "id": "dd4e47da",
   "metadata": {},
   "outputs": [],
   "source": [
    "#Creating histogram of every column\n",
    "\n",
    "for col in df.describe().columns:\n",
    "    data=df.copy()\n",
    "    data[col].hist(bins=25)\n",
    "    plt.xlabel(col)\n",
    "    plt.ylabel(\"Count\")\n",
    "    plt.title(col)\n",
    "    plt.show()"
   ]
  },
  {
   "cell_type": "markdown",
   "id": "c5003fd0",
   "metadata": {},
   "source": [
    "## Bivariate Analysis"
   ]
  },
  {
   "cell_type": "code",
   "execution_count": null,
   "id": "b935fb4d",
   "metadata": {},
   "outputs": [],
   "source": [
    "#Scatter plot between all feature variables and target variable\n",
    "\n",
    "for col in df.describe().columns:\n",
    "    data=df.copy()\n",
    "    plt.scatter(data[col],data['label'])\n",
    "    plt.xlabel(col)\n",
    "    plt.ylabel('label')\n",
    "    plt.show()"
   ]
  },
  {
   "cell_type": "code",
   "execution_count": null,
   "id": "e88a9d7b",
   "metadata": {},
   "outputs": [],
   "source": [
    "#Factor plot of label vs aon\n",
    "plt.figure(figsize=(18,8))\n",
    "sns.factorplot(x='label',y='aon',data=df,kind='bar',size=5,palette='muted',aspect=1)\n",
    "plt.title('label vs aon')\n",
    "plt.xticks(rotation='vertical')\n",
    "plt.ylabel('aon')\n",
    "plt.show()\n",
    "\n",
    "\n",
    "print(df.groupby('aon')['label'].value_counts())"
   ]
  },
  {
   "cell_type": "markdown",
   "id": "357d3d8c",
   "metadata": {},
   "source": [
    "Observation:\n",
    "\n",
    "If the aon is high the number of defaulters are more."
   ]
  },
  {
   "cell_type": "code",
   "execution_count": null,
   "id": "597e520f",
   "metadata": {},
   "outputs": [],
   "source": [
    "#Factor plot of label vs cnt_ma_rech30\n",
    "plt.figure(figsize=(18,8))\n",
    "sns.factorplot(x='label',y='cnt_ma_rech30',data=df,kind='bar',size=5,palette='muted',aspect=1)\n",
    "plt.title('label vs cnt_ma_rech30')\n",
    "plt.xticks(rotation='vertical')\n",
    "plt.ylabel('cnt_ma_rech30')\n",
    "plt.show()\n",
    "\n",
    "print(df.groupby('cnt_ma_rech30')['label'].value_counts())"
   ]
  },
  {
   "cell_type": "markdown",
   "id": "5cc4ca73",
   "metadata": {},
   "source": [
    "Observation:\n",
    "\n",
    "If Number of times main account got recharged in last 30 days(cnt_ma_rech30) is more then there is less chance of default."
   ]
  },
  {
   "cell_type": "code",
   "execution_count": null,
   "id": "42d7ee27",
   "metadata": {},
   "outputs": [],
   "source": [
    "#Factor plot of label vs sumamnt_ma_rech30\n",
    "plt.figure(figsize=(18,8))\n",
    "sns.factorplot(x='label',y='sumamnt_ma_rech30',data=df,kind='bar',size=5,palette='muted',aspect=1)\n",
    "plt.title('label vs sumamnt_ma_rech30')\n",
    "plt.xticks(rotation='vertical')\n",
    "plt.ylabel('sumamnt_ma_rech30')\n",
    "plt.show()\n",
    "\n",
    "print(df.groupby('sumamnt_ma_rech30')['label'].value_counts())"
   ]
  },
  {
   "cell_type": "markdown",
   "id": "edd082db",
   "metadata": {},
   "source": [
    "Observation:\n",
    "\n",
    "If Number of times main account got recharged in last 30 days(cnt_ma_rech30) is more then there is less chance of default."
   ]
  },
  {
   "cell_type": "code",
   "execution_count": null,
   "id": "01f45b74",
   "metadata": {},
   "outputs": [],
   "source": [
    "#Factor plot of label vs cnt_ma_rech90\n",
    "plt.figure(figsize=(18,8))\n",
    "sns.factorplot(x='label',y='cnt_ma_rech90',data=df,kind='bar',size=5,palette='muted',aspect=1)\n",
    "plt.title('label vs cnt_ma_rech90')\n",
    "plt.xticks(rotation='vertical')\n",
    "plt.ylabel('cnt_ma_rech90')\n",
    "plt.show()\n",
    "\n",
    "print(df.groupby('cnt_ma_rech90')['label'].value_counts())"
   ]
  },
  {
   "cell_type": "markdown",
   "id": "cf6f23e5",
   "metadata": {},
   "source": [
    "Observation:\n",
    "\n",
    "If Number of times main account got recharged in last 90 days(cnt_ma_rech90) is more then there is less chance of default."
   ]
  },
  {
   "cell_type": "code",
   "execution_count": null,
   "id": "800f8bf3",
   "metadata": {},
   "outputs": [],
   "source": [
    "#Factor plot of label vs sumamnt_ma_rech90\n",
    "plt.figure(figsize=(18,8))\n",
    "sns.factorplot(x='label',y='sumamnt_ma_rech90',data=df,kind='bar',size=5,palette='muted',aspect=1)\n",
    "plt.title('label vs sumamnt_ma_rech90')\n",
    "plt.xticks(rotation='vertical')\n",
    "plt.ylabel('sumamnt_ma_rech90')\n",
    "plt.show()\n",
    "\n",
    "print(df.groupby('sumamnt_ma_rech90')['label'].value_counts())"
   ]
  },
  {
   "cell_type": "markdown",
   "id": "98427d43",
   "metadata": {},
   "source": [
    "\n",
    "Observation:\n",
    "\n",
    "If Total amount of recharge in main account over last 30 days(sumamnt_ma_rech90) is more the chances of default are less"
   ]
  },
  {
   "cell_type": "code",
   "execution_count": null,
   "id": "6ab45824",
   "metadata": {},
   "outputs": [],
   "source": [
    "#Factor plot of label vs amnt_loans90\n",
    "plt.figure(figsize=(18,8))\n",
    "sns.factorplot(x='label',y='amnt_loans90',data=df,kind='bar',size=5,palette='muted',aspect=1)\n",
    "plt.title('label vs amnt_loans90')\n",
    "plt.xticks(rotation='vertical')\n",
    "plt.ylabel('amnt_loans90')\n",
    "plt.show()\n",
    "\n",
    "print(df.groupby('amnt_loans90')['label'].value_counts())"
   ]
  },
  {
   "cell_type": "markdown",
   "id": "ab38975e",
   "metadata": {},
   "source": [
    "Observation:\n",
    "\n",
    "If Total amount of loans taken by user in last 90 days(amnt_loans90) is high there is less chance of default."
   ]
  },
  {
   "cell_type": "code",
   "execution_count": null,
   "id": "04db2d72",
   "metadata": {},
   "outputs": [],
   "source": [
    "#label vs medianamnt_ma_rech90\n",
    "\n",
    "plt.figure(figsize=(18,8))\n",
    "mean_price=np.mean(df['medianamnt_ma_rech90'])\n",
    "sns.boxplot(y='medianamnt_ma_rech90',x='label',data=df,palette=\"rainbow\")\n",
    "plt.axhline(mean_price,color='r',linestyle='dashed',linewidth=2)\n",
    "plt.title(\"medianamnt_ma_rech90 vs label\",fontsize=20)\n",
    "plt.xticks(rotation='vertical')\n",
    "plt.show()"
   ]
  },
  {
   "cell_type": "code",
   "execution_count": null,
   "id": "db516528",
   "metadata": {},
   "outputs": [],
   "source": [
    "#Exploring label vs daily_decr30 via FaceGrid\n",
    "\n",
    "facet= sns.FacetGrid(df, col='label')\n",
    "facet.map(sns.distplot, \"daily_decr30\")\n",
    "plt.show()"
   ]
  },
  {
   "cell_type": "code",
   "execution_count": null,
   "id": "81e37ab2",
   "metadata": {},
   "outputs": [],
   "source": [
    "#Exploring label vs daily_decr90 via FaceGrid\n",
    "\n",
    "facet= sns.FacetGrid(df, col='label')\n",
    "facet.map(sns.distplot, \"daily_decr90\")\n",
    "plt.show()"
   ]
  },
  {
   "cell_type": "code",
   "execution_count": null,
   "id": "dc7f6b00",
   "metadata": {},
   "outputs": [],
   "source": [
    "#Violinplot of label vs cnt_ma_rech30\n",
    "\n",
    "sns.set(rc={'figure.figsize':(9,9)})\n",
    "sns.violinplot(x=df['label'],y=df['cnt_ma_rech30'],data=df)"
   ]
  },
  {
   "cell_type": "markdown",
   "id": "db0aec26",
   "metadata": {},
   "source": [
    "Observation:\n",
    "\n",
    "      If Number of times main account got recharged in last 30 days(cnt_ma_rech30) is more then there is less chance of default."
   ]
  },
  {
   "cell_type": "markdown",
   "id": "f4d15a30",
   "metadata": {},
   "source": [
    "# Multivariate Analysis"
   ]
  },
  {
   "cell_type": "code",
   "execution_count": null,
   "id": "b122ca82",
   "metadata": {},
   "outputs": [],
   "source": [
    "#checking month and cnt_ma_rech90 with respect to label\n",
    "\n",
    "sns.factorplot(x='month',y='cnt_ma_rech90',hue='label',data=df,kind='violin',size=5,palette='muted',aspect=2)\n",
    "plt.title('label according to month and cnt_ma_rech90')\n",
    "plt.xticks()\n",
    "plt.ylabel('cnt_ma_rech90')\n",
    "plt.show()"
   ]
  },
  {
   "cell_type": "code",
   "execution_count": null,
   "id": "2450991f",
   "metadata": {},
   "outputs": [],
   "source": [
    "#scatter plot between cnt_ma_rech_30 and cnt_ma_rech90 with respect to label\n",
    "plt.figure(figsize=(14,14))\n",
    "sns.lmplot(x='cnt_ma_rech30',y='cnt_ma_rech90',fit_reg=False,data=df,hue='label',markers=['+','x'])\n",
    "plt.xlabel('cnt_ma_rech30')\n",
    "plt.title('correaltion between cnt_ma_rech30 and cnt_ma_rech90')\n",
    "plt.ylabel('cnt_ma_rech90')\n",
    "plt.show()"
   ]
  },
  {
   "cell_type": "markdown",
   "id": "c3359fff",
   "metadata": {},
   "source": [
    "Observation:\n",
    "\n",
    "     As cnt_ma_rech30 and cnt_ma_rech90 are increasing the number of non defaulters are also increasing."
   ]
  },
  {
   "cell_type": "code",
   "execution_count": null,
   "id": "23d15bde",
   "metadata": {},
   "outputs": [],
   "source": [
    "#scatter plot between cnt_loans30 and amnt_loans30 with respect to label\n",
    "plt.figure(figsize=(14,14))\n",
    "sns.lmplot(x='cnt_loans30',y='cnt_loans30',fit_reg=False,data=df,hue='label',markers=['+','x'])\n",
    "plt.xlabel('cnt_loans30')\n",
    "plt.title('correaltion between cnt_loans30 and cnt_amnt30')\n",
    "plt.ylabel('cnt_amnt30')\n",
    "plt.show()"
   ]
  },
  {
   "cell_type": "markdown",
   "id": "137d1190",
   "metadata": {},
   "source": [
    "Observation:\n",
    "\n",
    "As cnt_loans30 and cnt_amnt30 are increasing the number of non defaulters are also increasing."
   ]
  },
  {
   "cell_type": "code",
   "execution_count": null,
   "id": "a429f1c2",
   "metadata": {},
   "outputs": [],
   "source": [
    "#scatter plot between sumamnt_ma_rech90 and amnt_loans90 with respect to label\n",
    "plt.figure(figsize=(14,14))\n",
    "sns.lmplot(x='sumamnt_ma_rech90',y='amnt_loans90',fit_reg=False,data=df,hue='label',markers=['+','x'])\n",
    "plt.xlabel('sumamnt_ma_rech90')\n",
    "plt.title('correaltion between sumamnt_ma_rech90 and amnt_loans90')\n",
    "plt.ylabel('amnt_loans90')\n",
    "plt.show()"
   ]
  },
  {
   "cell_type": "markdown",
   "id": "d858c0c1",
   "metadata": {},
   "source": [
    "Observation:\n",
    "\n",
    "As sumamnt_rech90 and amnt_loans30 are increasing the number of non defaulters are also increasing."
   ]
  },
  {
   "cell_type": "markdown",
   "id": "0ba7331c",
   "metadata": {},
   "source": [
    "# PreProcessing Pipeline"
   ]
  },
  {
   "cell_type": "markdown",
   "id": "6578ab59",
   "metadata": {},
   "source": [
    "### Checking skewness"
   ]
  },
  {
   "cell_type": "code",
   "execution_count": null,
   "id": "2fd7e74e",
   "metadata": {},
   "outputs": [],
   "source": [
    "for col in df.describe().columns:\n",
    "    sns.distplot(df[col],color='r')\n",
    "    plt.show()"
   ]
  },
  {
   "cell_type": "code",
   "execution_count": null,
   "id": "614c0b29",
   "metadata": {},
   "outputs": [],
   "source": [
    "df.skew()"
   ]
  },
  {
   "cell_type": "markdown",
   "id": "20a39f95",
   "metadata": {},
   "source": [
    "# Handling skewness and outliers through Winsorization"
   ]
  },
  {
   "cell_type": "code",
   "execution_count": null,
   "id": "3c9132e1",
   "metadata": {},
   "outputs": [],
   "source": [
    "plt.figure(figsize=(18,14))\n",
    "\n",
    "for i in range(len(df.columns)):\n",
    "        plt.subplot(17,2,i+1)\n",
    "        plt.boxplot(df[df.columns[i]], vert=False)\n",
    "        plt.title(df.columns[i])\n",
    "plt.show()"
   ]
  },
  {
   "cell_type": "code",
   "execution_count": null,
   "id": "d2e3b018",
   "metadata": {},
   "outputs": [],
   "source": [
    "features = ['aon','daily_decr30','daily_decr90','rental30','rental90','last_rech_amt_ma','cnt_ma_rech30','sumamnt_ma_rech30','medianamnt_ma_rech30','medianmarechprebal30','cnt_ma_rech90','fr_ma_rech90','sumamnt_ma_rech90','medianamnt_ma_rech90','medianmarechprebal90','cnt_da_rech30','cnt_da_rech90','fr_da_rech90','cnt_loans30','amnt_loans30','maxamnt_loans30','medianamnt_loans30','cnt_loans90','amnt_loans90','maxamnt_loans90','medianamnt_loans90','payback30','payback90','day','month']"
   ]
  },
  {
   "cell_type": "code",
   "execution_count": null,
   "id": "cf916394",
   "metadata": {},
   "outputs": [],
   "source": [
    "from scipy.stats import zscore\n",
    "z_score=abs(zscore(df))\n",
    "print(df.shape)\n",
    "df_final=df.loc[(z_score<5).all(axis=1)]\n",
    "print(df_final.shape)"
   ]
  },
  {
   "cell_type": "code",
   "execution_count": null,
   "id": "7c2b0bd6",
   "metadata": {},
   "outputs": [],
   "source": [
    "df=df_final"
   ]
  },
  {
   "cell_type": "code",
   "execution_count": null,
   "id": "f310ad27",
   "metadata": {},
   "outputs": [],
   "source": [
    "df_cap = df.copy()"
   ]
  },
  {
   "cell_type": "code",
   "execution_count": null,
   "id": "39c9243a",
   "metadata": {},
   "outputs": [],
   "source": [
    "from scipy import stats"
   ]
  },
  {
   "cell_type": "code",
   "execution_count": null,
   "id": "4d195f09",
   "metadata": {},
   "outputs": [],
   "source": [
    "def percentile_capping(df, cols, from_low_end, from_high_end):\n",
    "    for col in cols:\n",
    "        stats.mstats.winsorize(a=df[col], limits=(from_low_end, from_high_end), inplace=True)"
   ]
  },
  {
   "cell_type": "code",
   "execution_count": null,
   "id": "ee120323",
   "metadata": {},
   "outputs": [],
   "source": [
    "percentile_capping(df_cap, features, 0.01, 0.10)"
   ]
  },
  {
   "cell_type": "code",
   "execution_count": null,
   "id": "fffbc9cb",
   "metadata": {},
   "outputs": [],
   "source": [
    "for col in features:\n",
    "    plt.figure(figsize=(16,4))\n",
    "    \n",
    "    plt.subplot(141)\n",
    "    sns.distplot(df[col], label=\"skew: \" + str(np.round(df[col].skew(),2)))\n",
    "    plt.title('Before')\n",
    "    plt.legend()\n",
    "    \n",
    "    plt.subplot(142)\n",
    "    sns.distplot(df_cap[col], label=\"skew: \" + str(np.round(df_cap[col].skew(),2)))\n",
    "    plt.title('After')\n",
    "    plt.legend()\n",
    "    \n",
    "    plt.subplot(143)\n",
    "    sns.boxplot(df[col])\n",
    "    plt.title('Before')\n",
    "    \n",
    "    plt.subplot(144)\n",
    "    sns.boxplot(df_cap[col])\n",
    "    plt.title('After')\n",
    "    plt.tight_layout()\n",
    "    plt.show()"
   ]
  },
  {
   "cell_type": "code",
   "execution_count": null,
   "id": "aab6a50f",
   "metadata": {},
   "outputs": [],
   "source": [
    "df_cap.skew()"
   ]
  },
  {
   "cell_type": "code",
   "execution_count": null,
   "id": "0583a08e",
   "metadata": {},
   "outputs": [],
   "source": [
    "df_cap.shape"
   ]
  },
  {
   "cell_type": "markdown",
   "id": "9aa2a382",
   "metadata": {},
   "source": [
    "# Model Training"
   ]
  },
  {
   "cell_type": "code",
   "execution_count": null,
   "id": "b05374ff",
   "metadata": {},
   "outputs": [],
   "source": [
    "df_x=df_cap.drop(columns=['label'],axis=1)"
   ]
  },
  {
   "cell_type": "code",
   "execution_count": null,
   "id": "d01a8842",
   "metadata": {},
   "outputs": [],
   "source": [
    "y=df_cap['label']"
   ]
  },
  {
   "cell_type": "code",
   "execution_count": null,
   "id": "2f723c11",
   "metadata": {},
   "outputs": [],
   "source": [
    "#Scaling input variables\n",
    "\n",
    "from sklearn.preprocessing import StandardScaler\n",
    "sc=StandardScaler()\n",
    "x=sc.fit_transform(df_x)\n",
    "x=pd.DataFrame(x,columns=df_x.columns)"
   ]
  },
  {
   "cell_type": "markdown",
   "id": "e7aea592",
   "metadata": {},
   "source": [
    "# Applying PCA"
   ]
  },
  {
   "cell_type": "code",
   "execution_count": null,
   "id": "c3599758",
   "metadata": {},
   "outputs": [],
   "source": [
    "from sklearn.decomposition import PCA\n",
    "covar_matrix = PCA(n_components = len(x.columns))\n",
    "covar_matrix.fit(x)"
   ]
  },
  {
   "cell_type": "code",
   "execution_count": null,
   "id": "38e03c66",
   "metadata": {},
   "outputs": [],
   "source": [
    "plt.ylabel('Eigenvalues')\n",
    "plt.xlabel('Number of features')\n",
    "plt.title('PCA Eigenvalues')\n",
    "plt.ylim(0,max(covar_matrix.explained_variance_))\n",
    "plt.style.context('seaborn-whitegrid')\n",
    "plt.axhline(y=1, color='r', linestyle='--')\n",
    "plt.plot(covar_matrix.explained_variance_)\n",
    "plt.show()"
   ]
  },
  {
   "cell_type": "code",
   "execution_count": null,
   "id": "408f0c4e",
   "metadata": {},
   "outputs": [],
   "source": [
    "variance = covar_matrix.explained_variance_ratio_\n",
    "var=np.cumsum(np.round(covar_matrix.explained_variance_ratio_, decimals=3)*100)\n",
    "\n",
    "plt.ylabel('% Variance Explained')\n",
    "plt.xlabel('Number of Features')\n",
    "plt.title('PCA Variance Explained')\n",
    "plt.ylim(min(var),100.5)\n",
    "plt.style.context('seaborn-whitegrid')\n",
    "plt.axhline(y=80, color='r', linestyle='--')\n",
    "plt.plot(var)\n",
    "plt.show()"
   ]
  },
  {
   "cell_type": "code",
   "execution_count": null,
   "id": "1e07f4cb",
   "metadata": {},
   "outputs": [],
   "source": [
    "pca=PCA(n_components=7)\n",
    "xpca=pca.fit_transform(x)\n",
    "x=xpca"
   ]
  },
  {
   "cell_type": "code",
   "execution_count": null,
   "id": "8f0b24ed",
   "metadata": {},
   "outputs": [],
   "source": [
    "pd.DataFrame(data=x)"
   ]
  },
  {
   "cell_type": "code",
   "execution_count": null,
   "id": "1774fd51",
   "metadata": {},
   "outputs": [],
   "source": [
    "#splitting the data into training and testing data\n",
    "\n",
    "from sklearn.model_selection import train_test_split\n",
    "x_train,x_test,y_train,y_test=train_test_split(x,y,test_size=.30,random_state=9,stratify=y)"
   ]
  },
  {
   "cell_type": "markdown",
   "id": "f6280340",
   "metadata": {},
   "source": [
    "# Handling imbalanced data through Smote technique"
   ]
  },
  {
   "cell_type": "code",
   "execution_count": null,
   "id": "ceabab62",
   "metadata": {},
   "outputs": [],
   "source": [
    "from imblearn.combine import SMOTETomek"
   ]
  },
  {
   "cell_type": "code",
   "execution_count": null,
   "id": "5d8ffa9b",
   "metadata": {},
   "outputs": [],
   "source": [
    "os=SMOTETomek(0.75)\n",
    "x_train_ns,y_train_ns=os.fit_resample(x_train,y_train)\n",
    "print(\"The number of classes before fit{}\".format(Counter(y_train)))\n",
    "print(\"The number of classes after fit {}\".format(Counter(y_train_ns)))"
   ]
  },
  {
   "cell_type": "markdown",
   "id": "173cbf5a",
   "metadata": {},
   "source": [
    "# Building Machine Learning Model"
   ]
  },
  {
   "cell_type": "code",
   "execution_count": null,
   "id": "cd3c5b0f",
   "metadata": {},
   "outputs": [],
   "source": [
    "KNN=KNeighborsClassifier(n_neighbors=6)\n",
    "LR=LogisticRegression()\n",
    "DT=DecisionTreeClassifier(random_state=6)\n",
    "XGB=XGBClassifier()\n",
    "RF=RandomForestClassifier()\n",
    "ADA=AdaBoostClassifier()\n",
    "GNB=GaussianNB()\n",
    "GBC=GradientBoostingClassifier()\n",
    "BC=BaggingClassifier()\n",
    "ETC=ExtraTreesClassifier()"
   ]
  },
  {
   "cell_type": "code",
   "execution_count": null,
   "id": "3469c98b",
   "metadata": {},
   "outputs": [],
   "source": [
    "models= []\n",
    "models.append(('KNeighborsClassifier', KNN))\n",
    "models.append(('LogisticRegression', LR))\n",
    "models.append(('DecisionTreeClassifier', DT))\n",
    "models.append(('XGBClassifier', XGB))\n",
    "models.append(('RandomForestClassifier', RF))\n",
    "models.append(('AdaBoostClassifier', ADA))\n",
    "models.append(('GaussianNB', GNB))\n",
    "models.append(('GradientBoostingClassifier', GBC))\n",
    "models.append(('BaggingClassifier', BC))\n",
    "models.append(('ExtraTreesClassifier', ETC))"
   ]
  },
  {
   "cell_type": "code",
   "execution_count": null,
   "id": "afd3e257",
   "metadata": {},
   "outputs": [],
   "source": [
    "Model= []\n",
    "score= []\n",
    "cvs=[]\n",
    "rocscore=[]\n",
    "for name,model in models:\n",
    "    print('******************************************',name,'********************************************************')\n",
    "    print('\\n')\n",
    "    Model.append(name)\n",
    "    model.fit(x_train_ns,y_train_ns)\n",
    "    print(model)\n",
    "    pre=model.predict(x_test)\n",
    "    print('\\n')\n",
    "    AS=accuracy_score(y_test,pre)\n",
    "    print('Accuracy_score = ',AS)\n",
    "    score.append(AS*100)\n",
    "    print('\\n')\n",
    "    sc= cross_val_score(model, x, y, cv=10, scoring='accuracy').mean()\n",
    "    print('Cross_Val_Score = ',sc)\n",
    "    cvs.append(sc*100)\n",
    "    print('\\n')\n",
    "    false_positive_rate, true_positive_rate, thresholds = roc_curve(y_test,pre)\n",
    "    roc_auc= auc(false_positive_rate, true_positive_rate)\n",
    "    print ('roc_auc_score = ',roc_auc)\n",
    "    rocscore.append(roc_auc*100)\n",
    "    print('\\n')\n",
    "    print('classification_report\\n',classification_report(y_test,pre))\n",
    "    print('\\n')\n",
    "    cm=confusion_matrix(y_test,pre)\n",
    "    print(cm)\n",
    "    print('\\n')\n",
    "    plt.figure(figsize=(10,40))\n",
    "    plt.subplot(911)\n",
    "    plt.title(name)\n",
    "    print(sns.heatmap(cm,annot=True))\n",
    "    plt.subplot(912)\n",
    "    plt.title(name)\n",
    "    plt.plot(false_positive_rate, true_positive_rate, label='AUC = %0.2f'% roc_auc)\n",
    "    plt.plot([0,1],[0,1],'r--')\n",
    "    plt.legend(loc='lower right')\n",
    "    plt.ylabel('True Positive Rate')\n",
    "    plt.xlabel('False Positive Rate')\n",
    "    print('\\n\\n')"
   ]
  },
  {
   "cell_type": "code",
   "execution_count": null,
   "id": "9bfb67f1",
   "metadata": {},
   "outputs": [],
   "source": [
    "result = pd.DataFrame({'Model': Model, 'Accuracy_score': score,'Cross_val_score': cvs,'Roc_auc_curve':rocscore})\n",
    "result"
   ]
  },
  {
   "cell_type": "markdown",
   "id": "0804e27f",
   "metadata": {},
   "source": [
    "Because XGBClassifier has the best rocscore and has a high recall, the classifier performs well by not identifying legitimate transactions as fraudulent, which is why we chose it as our final model."
   ]
  },
  {
   "cell_type": "markdown",
   "id": "fcfd1c7a",
   "metadata": {},
   "source": [
    "# Using GridSearchCV to find the best parameters in XGBClassifier"
   ]
  },
  {
   "cell_type": "code",
   "execution_count": null,
   "id": "bd0d4d78",
   "metadata": {},
   "outputs": [],
   "source": [
    "parameters={'n_estimators': [100, 250, 500], 'max_depth': [6,9,12], 'subsample':[0.9, 1.0]}\n",
    "XGB=XGBClassifier()\n",
    "\n",
    "clf=GridSearchCV(XGB, parameters, n_jobs=4)\n",
    "clf.fit(x,y)\n",
    "print(clf.best_params_)       "
   ]
  },
  {
   "cell_type": "code",
   "execution_count": null,
   "id": "338fbbc4",
   "metadata": {},
   "outputs": [],
   "source": [
    "#XGBClassifier with best parameters\n",
    "\n",
    "XGB=XGBClassifier(max_depth=6,n_estimators=100,subsample=1.0,gamma=1)\n",
    "XGB.fit(x_train_ns,y_train_ns)\n",
    "XGB.score(x_train_ns,y_train_ns)\n",
    "predXGB=XGB.predict(x_test)\n",
    "print(accuracy_score(y_test,predXGB))\n",
    "print(confusion_matrix(y_test,predXGB))\n",
    "print(classification_report(y_test,predXGB)) "
   ]
  },
  {
   "cell_type": "code",
   "execution_count": null,
   "id": "77abdb17",
   "metadata": {},
   "outputs": [],
   "source": [
    "#cross validate XGBClassifier accuracy\n",
    "\n",
    "score=cross_val_score(XGB,x,y,cv=5,scoring='accuracy')\n",
    "\n",
    "print(score)\n",
    "print('Mean:',score.mean())\n",
    "print('Std:',score.std())"
   ]
  },
  {
   "cell_type": "code",
   "execution_count": null,
   "id": "e35a9e2f",
   "metadata": {},
   "outputs": [],
   "source": [
    "#plotting the roc auc curve\n",
    "\n",
    "from sklearn import metrics\n",
    "y_pred_proba = clf.predict_proba(x_test)[::,1]\n",
    "fpr, tpr, _ = metrics.roc_curve(y_test,  y_pred_proba)\n",
    "auc = metrics.roc_auc_score(y_test, y_pred_proba)\n",
    "plt.plot(fpr,tpr,label=\"data 1, auc=\"+str(auc))\n",
    "plt.legend(loc=4)\n",
    "plt.show()"
   ]
  },
  {
   "cell_type": "code",
   "execution_count": null,
   "id": "8c31feca",
   "metadata": {},
   "outputs": [],
   "source": [
    "#plotting the distribution plot and we find the Gaussian plot\n",
    "\n",
    "sns.distplot(y_test-y_pred_proba)\n",
    "plt.show()"
   ]
  },
  {
   "cell_type": "code",
   "execution_count": null,
   "id": "ba7f43a3",
   "metadata": {},
   "outputs": [],
   "source": [
    "#Scatter plot between test data and prediction\n",
    "\n",
    "plt.scatter(y_test,y_pred_proba, alpha=0.5)\n",
    "plt.xlabel(\"Y_test\")\n",
    "plt.ylabel(\"Y_pred_proba\")\n",
    "plt.title(\"Scatter plot between test data and predicted data\",fontsize=15)\n",
    "plt.show()"
   ]
  },
  {
   "cell_type": "code",
   "execution_count": null,
   "id": "5f7ded32",
   "metadata": {},
   "outputs": [],
   "source": [
    "#saving our model\n",
    "\n",
    "import joblib\n",
    "joblib.dump(XGB,'XGB_MicroCreditDefaulter.csv')"
   ]
  },
  {
   "cell_type": "code",
   "execution_count": null,
   "id": "d6315586",
   "metadata": {},
   "outputs": [],
   "source": [
    "model=joblib.load('XGB_MicroCreditDefaulter.csv')"
   ]
  },
  {
   "cell_type": "code",
   "execution_count": null,
   "id": "d60e463a",
   "metadata": {},
   "outputs": [],
   "source": [
    "#Testing our model\n",
    "import sys\n",
    "nums= model.predict(x_test)\n",
    "np.set_printoptions(threshold=sys.maxsize)\n",
    "print(nums)"
   ]
  },
  {
   "cell_type": "markdown",
   "id": "55005e80",
   "metadata": {},
   "source": [
    "# Conclusion"
   ]
  },
  {
   "cell_type": "markdown",
   "id": "02e431f3",
   "metadata": {},
   "source": [
    "#### Using several Classification Models, we projected the outcomes in terms of a likelihood for each loan transaction, including whether the consumer will repay the lent amount within 5 days of loan insurance. Although both the random forest and gradient boosting models performed well, the best score of 0.90 was obtained utilising the optimal XGBClassifier parameters with GridSearchCV."
   ]
  },
  {
   "cell_type": "code",
   "execution_count": null,
   "id": "ab920dae",
   "metadata": {},
   "outputs": [],
   "source": []
  },
  {
   "cell_type": "code",
   "execution_count": null,
   "id": "53c5778e",
   "metadata": {},
   "outputs": [],
   "source": []
  },
  {
   "cell_type": "code",
   "execution_count": null,
   "id": "bb352ea3",
   "metadata": {},
   "outputs": [],
   "source": []
  },
  {
   "cell_type": "code",
   "execution_count": null,
   "id": "8b54e045",
   "metadata": {},
   "outputs": [],
   "source": []
  }
 ],
 "metadata": {
  "kernelspec": {
   "display_name": "Python 3 (ipykernel)",
   "language": "python",
   "name": "python3"
  },
  "language_info": {
   "codemirror_mode": {
    "name": "ipython",
    "version": 3
   },
   "file_extension": ".py",
   "mimetype": "text/x-python",
   "name": "python",
   "nbconvert_exporter": "python",
   "pygments_lexer": "ipython3",
   "version": "3.9.7"
  }
 },
 "nbformat": 4,
 "nbformat_minor": 5
}
